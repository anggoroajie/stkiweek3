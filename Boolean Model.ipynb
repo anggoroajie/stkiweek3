{
 "cells": [
  {
   "cell_type": "markdown",
   "id": "f80e046d",
   "metadata": {},
   "source": [
    "<span style=\"font-size:24px;\"><strong>Nama: Anggoro Ajie Putranto</strong></span>"
   ]
  },
  {
   "cell_type": "markdown",
   "id": "88b595eb",
   "metadata": {},
   "source": [
    "<span style=\"font-size:24px;\"><strong>NIM: A11.2020.13202</strong></span>"
   ]
  },
  {
   "cell_type": "markdown",
   "id": "8cbcbcc3",
   "metadata": {},
   "source": [
    "<span style=\"font-size:24px;\"><strong>Kelas: STKI-A11.4708</strong></span>"
   ]
  },
  {
   "cell_type": "markdown",
   "id": "03bc5a6a",
   "metadata": {},
   "source": [
    "----"
   ]
  },
  {
   "cell_type": "code",
   "execution_count": 17,
   "id": "16e2b051",
   "metadata": {},
   "outputs": [],
   "source": [
    "import nltk\n",
    "from nltk.corpus import stopwords\n",
    "from nltk.stem import WordNetLemmatizer, PorterStemmer\n",
    "from nltk.tokenize import sent_tokenize , word_tokenize\n",
    "import glob\n",
    "import re\n",
    "import os\n",
    "import numpy as np\n",
    "import sys\n",
    "Stopwords = set(stopwords.words('english'))"
   ]
  },
  {
   "cell_type": "markdown",
   "id": "2a011a52",
   "metadata": {},
   "source": [
    "Mengimpor modul-modul dari pustaka Natural Language Toolkit (NLTK) dan modul-modul Python lainnya untuk melakukan pemrosesan teks. "
   ]
  },
  {
   "cell_type": "markdown",
   "id": "ea426317",
   "metadata": {},
   "source": [
    "--------------"
   ]
  },
  {
   "cell_type": "code",
   "execution_count": 18,
   "id": "b3c70d4a",
   "metadata": {},
   "outputs": [],
   "source": [
    "def finding_all_unique_words_and_freq(words):\n",
    "    words_unique = []\n",
    "    word_freq = {}\n",
    "    for word in words:\n",
    "        if word not in words_unique:\n",
    "            words_unique.append(word)\n",
    "    for word in words_unique:\n",
    "        word_freq[word] = words.count(word)\n",
    "    return word_freq\n",
    "def finding_freq_of_word_in_doc(word,words):\n",
    "    freq = words.count(word)\n",
    "        \n",
    "def remove_special_characters(text):\n",
    "    regex = re.compile('[^a-zA-Z0-9\\s]')\n",
    "    text_returned = re.sub(regex,'',text)\n",
    "    return text_returned"
   ]
  },
  {
   "cell_type": "markdown",
   "id": "eece5091",
   "metadata": {},
   "source": [
    "Membersihkan dan memproses teks agar dapat dianalisis dengan benar, termasuk menghitung frekuensi kata-kata unik dan menghapus karakter khusus yang tidak diperlukan dalam konteks analisis teks."
   ]
  },
  {
   "cell_type": "markdown",
   "id": "3d5ce2c4",
   "metadata": {},
   "source": [
    "---------"
   ]
  },
  {
   "cell_type": "code",
   "execution_count": 24,
   "id": "d38976dc",
   "metadata": {},
   "outputs": [
    {
     "name": "stdout",
     "output_type": "stream",
     "text": [
      "C:\\Users\\Winry\\data\\badminton.txt\n",
      "C:\\Users\\Winry\\data\\barack obama.txt\n",
      "C:\\Users\\Winry\\data\\baseball.txt\n",
      "C:\\Users\\Winry\\data\\lee quan yew.txt\n",
      "C:\\Users\\Winry\\data\\narendra modi.txt\n",
      "C:\\Users\\Winry\\data\\queen elizabeth.txt\n",
      "C:\\Users\\Winry\\data\\shinzo abe.txt\n",
      "C:\\Users\\Winry\\data\\table tennis.txt\n"
     ]
    }
   ],
   "source": [
    "all_words = []\n",
    "dict_global = {}\n",
    "file_folder = 'C:\\\\Users\\\\Winry\\\\data\\\\*.txt' #UBAH CODE INI SESUAI TEMPAT FILE TXT DILETAKKAN, JIKA TIDAK KODINGAN INI TIDAK AKAN BISA MEMBACA FILE FILE TXT TERSEBUT\n",
    "idx = 1\n",
    "files_with_index = {}\n",
    "for file in glob.glob(file_folder):\n",
    "    print(file)\n",
    "    fname = file\n",
    "    try:\n",
    "        with open(file, \"r\", encoding=\"utf-8\") as file: #membuka file, yang akan secara otomatis menutup file setelah selesai digunakan\n",
    "            text = file.read()\n",
    "    except UnicodeDecodeError: # mengecualikan file yang tidak dapat dibaca\n",
    "        print(f\"Error reading {file}, skipping...\")\n",
    "        continue\n",
    "    \n",
    "    text = remove_special_characters(text)\n",
    "    text = re.sub(re.compile('\\d'),'',text)\n",
    "    sentences = sent_tokenize(text)\n",
    "    words = word_tokenize(text)\n",
    "    words = [word for word in words if len(words)>1]\n",
    "    words = [word.lower() for word in words]\n",
    "    words = [word for word in words if word not in Stopwords]\n",
    "    dict_global.update(finding_all_unique_words_and_freq(words))\n",
    "    files_with_index[idx] = os.path.basename(fname)\n",
    "    idx = idx + 1\n",
    "    \n",
    "unique_words_all = set(dict_global.keys())\n",
    "\n"
   ]
  },
  {
   "cell_type": "markdown",
   "id": "6962577c",
   "metadata": {},
   "source": [
    "Membaca dan memproses teks dari file-file di direktori tertentu, membersihkannya dari karakter khusus, angka, dan kata-kata berhenti, dan menyimpan kata-kata unik."
   ]
  },
  {
   "cell_type": "markdown",
   "id": "cd689787",
   "metadata": {},
   "source": [
    "-----"
   ]
  },
  {
   "cell_type": "code",
   "execution_count": 20,
   "id": "2be3a0ea",
   "metadata": {},
   "outputs": [],
   "source": [
    "class Node:\n",
    "    def __init__(self ,docId, freq = None):\n",
    "        self.freq = freq\n",
    "        self.doc = docId\n",
    "        self.nextval = None\n",
    "    \n",
    "class SlinkedList:\n",
    "    def __init__(self ,head = None):\n",
    "        self.head = head"
   ]
  },
  {
   "cell_type": "markdown",
   "id": "dddb3d71",
   "metadata": {},
   "source": [
    "Mendefinisikan dua kelas: Node dan SlinkedList, yang merupakan bagian dari struktur data linked list."
   ]
  },
  {
   "cell_type": "markdown",
   "id": "3d6a1fc2",
   "metadata": {},
   "source": [
    "--------"
   ]
  },
  {
   "cell_type": "code",
   "execution_count": 21,
   "id": "a7d70d02",
   "metadata": {},
   "outputs": [
    {
     "name": "stdout",
     "output_type": "stream",
     "text": [
      "C:\\Users\\Winry\\data\\badminton.txt\n",
      "C:\\Users\\Winry\\data\\barack obama.txt\n",
      "C:\\Users\\Winry\\data\\baseball.txt\n",
      "C:\\Users\\Winry\\data\\lee quan yew.txt\n",
      "C:\\Users\\Winry\\data\\narendra modi.txt\n",
      "C:\\Users\\Winry\\data\\queen elizabeth.txt\n",
      "C:\\Users\\Winry\\data\\shinzo abe.txt\n",
      "C:\\Users\\Winry\\data\\table tennis.txt\n"
     ]
    }
   ],
   "source": [
    "linked_list_data = {}\n",
    "for word in unique_words_all:\n",
    "    linked_list_data[word] = SlinkedList()\n",
    "    linked_list_data[word].head = Node(1,Node)\n",
    "word_freq_in_doc = {}\n",
    "idx = 1\n",
    "for file in glob.glob(file_folder):\n",
    "    print(file)\n",
    "    fname = file\n",
    "    try:\n",
    "        with open(file, \"r\", encoding=\"utf-8\") as file: #membuka file, yang akan secara otomatis menutup file setelah selesai digunakan\n",
    "            text = file.read()\n",
    "    except UnicodeDecodeError: # mengecualikan file yang tidak dapat dibaca\n",
    "        print(f\"Error reading {file}, skipping...\")\n",
    "        continue\n",
    "    text = remove_special_characters(text)\n",
    "    text = re.sub(re.compile('\\d'),'',text)\n",
    "    sentences = sent_tokenize(text)\n",
    "    words = word_tokenize(text)\n",
    "    words = [word for word in words if len(words)>1]\n",
    "    words = [word.lower() for word in words]\n",
    "    words = [word for word in words if word not in Stopwords]\n",
    "    word_freq_in_doc = finding_all_unique_words_and_freq(words)\n",
    "    for word in word_freq_in_doc.keys():\n",
    "        linked_list = linked_list_data[word].head\n",
    "        while linked_list.nextval is not None:\n",
    "            linked_list = linked_list.nextval\n",
    "        linked_list.nextval = Node(idx ,word_freq_in_doc[word])\n",
    "    idx = idx + 1"
   ]
  },
  {
   "cell_type": "markdown",
   "id": "3bb5d715",
   "metadata": {},
   "source": [
    "Mengonstruksi indeks terbalik (inverted index) dari teks yang diproses."
   ]
  },
  {
   "cell_type": "markdown",
   "id": "64127890",
   "metadata": {},
   "source": [
    "------"
   ]
  },
  {
   "cell_type": "code",
   "execution_count": 27,
   "id": "9b9b0ac7",
   "metadata": {},
   "outputs": [
    {
     "name": "stdout",
     "output_type": "stream",
     "text": [
      "Enter your query:elizabeth\n",
      "[]\n",
      "elizabeth\n",
      "[[0, 0, 0, 0, 0, 1, 0, 0]]\n",
      "[]\n"
     ]
    }
   ],
   "source": [
    "query = input('Enter your query:')\n",
    "query = word_tokenize(query)\n",
    "connecting_words = []\n",
    "cnt = 1\n",
    "different_words = []\n",
    "bitwise_op = []\n",
    "for word in query:\n",
    "    if word.lower() != \"and\" and word.lower() != \"or\" and word.lower() != \"not\":\n",
    "        different_words.append(word.lower())\n",
    "    else:\n",
    "        connecting_words.append(word.lower())\n",
    "print(connecting_words)\n",
    "total_files = len(files_with_index)\n",
    "zeroes_and_ones = []\n",
    "zeroes_and_ones_of_all_words = []\n",
    "for word in (different_words):\n",
    "    if word.lower() in unique_words_all:\n",
    "        zeroes_and_ones = [0] * total_files\n",
    "        linkedlist = linked_list_data[word].head\n",
    "        print(word)\n",
    "        while linkedlist.nextval is not None:\n",
    "            zeroes_and_ones[linkedlist.nextval.doc - 1] = 1\n",
    "            linkedlist = linkedlist.nextval\n",
    "        zeroes_and_ones_of_all_words.append(zeroes_and_ones)\n",
    "    else:\n",
    "        print(word,\" not found\")\n",
    "        sys.exit()\n",
    "print(zeroes_and_ones_of_all_words)\n",
    "for word in connecting_words:\n",
    "    word_list1 = zeroes_and_ones_of_all_words[0]\n",
    "    word_list2 = zeroes_and_ones_of_all_words[1]\n",
    "    if word == \"and\":\n",
    "        bitwise_op = [w1 & w2 for (w1,w2) in zip(word_list1,word_list2)]\n",
    "        zeroes_and_ones_of_all_words.remove(word_list1)\n",
    "        zeroes_and_ones_of_all_words.remove(word_list2)\n",
    "        zeroes_and_ones_of_all_words.insert(0, bitwise_op);\n",
    "    elif word == \"or\":\n",
    "        bitwise_op = [w1 | w2 for (w1,w2) in zip(word_list1,word_list2)]\n",
    "        zeroes_and_ones_of_all_words.remove(word_list1)\n",
    "        zeroes_and_ones_of_all_words.remove(word_list2)\n",
    "        zeroes_and_ones_of_all_words.insert(0, bitwise_op);\n",
    "    elif word == \"not\":\n",
    "        bitwise_op = [not w1 for w1 in word_list2]\n",
    "        bitwise_op = [int(b == True) for b in bitwise_op]\n",
    "        zeroes_and_ones_of_all_words.remove(word_list2)\n",
    "        zeroes_and_ones_of_all_words.remove(word_list1)\n",
    "        bitwise_op = [w1 & w2 for (w1,w2) in zip(word_list1,bitwise_op)]\n",
    "zeroes_and_ones_of_all_words.insert(0, bitwise_op);\n",
    "        \n",
    "files = []    \n",
    "# print(zeroes_and_ones_of_all_words)\n",
    "lis = zeroes_and_ones_of_all_words[0]\n",
    "cnt = 1\n",
    "for index in lis:\n",
    "    if index == 1:\n",
    "        files.append(files_with_index[cnt])\n",
    "    cnt = cnt+1\n",
    "    \n",
    "print(files)"
   ]
  },
  {
   "cell_type": "markdown",
   "id": "e01e165c",
   "metadata": {},
   "source": [
    "Memproses dan mengevaluasi kueri pencarian yang dimasukkan oleh pengguna."
   ]
  },
  {
   "cell_type": "markdown",
   "id": "41ffdd97",
   "metadata": {},
   "source": [
    "-----"
   ]
  },
  {
   "cell_type": "code",
   "execution_count": null,
   "id": "66c231ff",
   "metadata": {},
   "outputs": [],
   "source": []
  }
 ],
 "metadata": {
  "kernelspec": {
   "display_name": "Python 3 (ipykernel)",
   "language": "python",
   "name": "python3"
  },
  "language_info": {
   "codemirror_mode": {
    "name": "ipython",
    "version": 3
   },
   "file_extension": ".py",
   "mimetype": "text/x-python",
   "name": "python",
   "nbconvert_exporter": "python",
   "pygments_lexer": "ipython3",
   "version": "3.10.9"
  }
 },
 "nbformat": 4,
 "nbformat_minor": 5
}
